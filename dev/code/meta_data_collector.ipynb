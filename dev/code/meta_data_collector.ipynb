{
 "cells": [
  {
   "cell_type": "code",
   "execution_count": 12,
   "id": "d5ecec7e-b210-48f1-a818-52037a92a374",
   "metadata": {
    "tags": []
   },
   "outputs": [],
   "source": [
    "import pandas as pd\n",
    "import os \n",
    "import joblib"
   ]
  },
  {
   "cell_type": "code",
   "execution_count": 13,
   "id": "61eed243-f55b-4320-bc0f-4d7bf8077a06",
   "metadata": {
    "tags": []
   },
   "outputs": [
    {
     "data": {
      "text/html": [
       "<div>\n",
       "<style scoped>\n",
       "    .dataframe tbody tr th:only-of-type {\n",
       "        vertical-align: middle;\n",
       "    }\n",
       "\n",
       "    .dataframe tbody tr th {\n",
       "        vertical-align: top;\n",
       "    }\n",
       "\n",
       "    .dataframe thead th {\n",
       "        text-align: right;\n",
       "    }\n",
       "</style>\n",
       "<table border=\"1\" class=\"dataframe\">\n",
       "  <thead>\n",
       "    <tr style=\"text-align: right;\">\n",
       "      <th></th>\n",
       "      <th>CIC0</th>\n",
       "      <th>SM1_Dz(Z)</th>\n",
       "      <th>GATS1i</th>\n",
       "      <th>NdsCH</th>\n",
       "      <th>NdssC</th>\n",
       "      <th>MLOGP</th>\n",
       "      <th>LC50 [-LOG(mol/L)]</th>\n",
       "      <th>isSyn</th>\n",
       "    </tr>\n",
       "  </thead>\n",
       "  <tbody>\n",
       "    <tr>\n",
       "      <th>0</th>\n",
       "      <td>3.260</td>\n",
       "      <td>0.829</td>\n",
       "      <td>1.676</td>\n",
       "      <td>0</td>\n",
       "      <td>1</td>\n",
       "      <td>1.453</td>\n",
       "      <td>3.770</td>\n",
       "      <td>0</td>\n",
       "    </tr>\n",
       "    <tr>\n",
       "      <th>1</th>\n",
       "      <td>2.189</td>\n",
       "      <td>0.580</td>\n",
       "      <td>0.863</td>\n",
       "      <td>0</td>\n",
       "      <td>0</td>\n",
       "      <td>1.348</td>\n",
       "      <td>3.115</td>\n",
       "      <td>0</td>\n",
       "    </tr>\n",
       "    <tr>\n",
       "      <th>2</th>\n",
       "      <td>2.125</td>\n",
       "      <td>0.638</td>\n",
       "      <td>0.831</td>\n",
       "      <td>0</td>\n",
       "      <td>0</td>\n",
       "      <td>1.348</td>\n",
       "      <td>3.531</td>\n",
       "      <td>0</td>\n",
       "    </tr>\n",
       "    <tr>\n",
       "      <th>3</th>\n",
       "      <td>3.027</td>\n",
       "      <td>0.331</td>\n",
       "      <td>1.472</td>\n",
       "      <td>1</td>\n",
       "      <td>0</td>\n",
       "      <td>1.807</td>\n",
       "      <td>3.510</td>\n",
       "      <td>0</td>\n",
       "    </tr>\n",
       "    <tr>\n",
       "      <th>4</th>\n",
       "      <td>2.094</td>\n",
       "      <td>0.827</td>\n",
       "      <td>0.860</td>\n",
       "      <td>0</td>\n",
       "      <td>0</td>\n",
       "      <td>1.886</td>\n",
       "      <td>5.390</td>\n",
       "      <td>0</td>\n",
       "    </tr>\n",
       "    <tr>\n",
       "      <th>...</th>\n",
       "      <td>...</td>\n",
       "      <td>...</td>\n",
       "      <td>...</td>\n",
       "      <td>...</td>\n",
       "      <td>...</td>\n",
       "      <td>...</td>\n",
       "      <td>...</td>\n",
       "      <td>...</td>\n",
       "    </tr>\n",
       "    <tr>\n",
       "      <th>1069</th>\n",
       "      <td>2.993</td>\n",
       "      <td>0.811</td>\n",
       "      <td>1.232</td>\n",
       "      <td>0</td>\n",
       "      <td>2</td>\n",
       "      <td>-0.059</td>\n",
       "      <td>5.395</td>\n",
       "      <td>1</td>\n",
       "    </tr>\n",
       "    <tr>\n",
       "      <th>1070</th>\n",
       "      <td>3.086</td>\n",
       "      <td>0.948</td>\n",
       "      <td>0.751</td>\n",
       "      <td>0</td>\n",
       "      <td>0</td>\n",
       "      <td>3.586</td>\n",
       "      <td>5.107</td>\n",
       "      <td>1</td>\n",
       "    </tr>\n",
       "    <tr>\n",
       "      <th>1071</th>\n",
       "      <td>3.315</td>\n",
       "      <td>0.223</td>\n",
       "      <td>0.799</td>\n",
       "      <td>0</td>\n",
       "      <td>0</td>\n",
       "      <td>3.127</td>\n",
       "      <td>4.440</td>\n",
       "      <td>1</td>\n",
       "    </tr>\n",
       "    <tr>\n",
       "      <th>1072</th>\n",
       "      <td>1.962</td>\n",
       "      <td>1.345</td>\n",
       "      <td>0.783</td>\n",
       "      <td>0</td>\n",
       "      <td>0</td>\n",
       "      <td>3.617</td>\n",
       "      <td>5.352</td>\n",
       "      <td>1</td>\n",
       "    </tr>\n",
       "    <tr>\n",
       "      <th>1073</th>\n",
       "      <td>2.777</td>\n",
       "      <td>0.560</td>\n",
       "      <td>1.127</td>\n",
       "      <td>1</td>\n",
       "      <td>0</td>\n",
       "      <td>1.433</td>\n",
       "      <td>4.767</td>\n",
       "      <td>1</td>\n",
       "    </tr>\n",
       "  </tbody>\n",
       "</table>\n",
       "<p>1074 rows × 8 columns</p>\n",
       "</div>"
      ],
      "text/plain": [
       "       CIC0  SM1_Dz(Z)  GATS1i  NdsCH  NdssC  MLOGP  LC50 [-LOG(mol/L)]  isSyn\n",
       "0     3.260      0.829   1.676      0      1  1.453               3.770      0\n",
       "1     2.189      0.580   0.863      0      0  1.348               3.115      0\n",
       "2     2.125      0.638   0.831      0      0  1.348               3.531      0\n",
       "3     3.027      0.331   1.472      1      0  1.807               3.510      0\n",
       "4     2.094      0.827   0.860      0      0  1.886               5.390      0\n",
       "...     ...        ...     ...    ...    ...    ...                 ...    ...\n",
       "1069  2.993      0.811   1.232      0      2 -0.059               5.395      1\n",
       "1070  3.086      0.948   0.751      0      0  3.586               5.107      1\n",
       "1071  3.315      0.223   0.799      0      0  3.127               4.440      1\n",
       "1072  1.962      1.345   0.783      0      0  3.617               5.352      1\n",
       "1073  2.777      0.560   1.127      1      0  1.433               4.767      1\n",
       "\n",
       "[1074 rows x 8 columns]"
      ]
     },
     "execution_count": 13,
     "metadata": {},
     "output_type": "execute_result"
    }
   ],
   "source": [
    "df = pd.read_csv(\"../dataset/smogn_syn_data.csv\")\n",
    "df"
   ]
  },
  {
   "cell_type": "code",
   "execution_count": 21,
   "id": "83ca02f8-05f0-49d1-b0cf-f86c9e13752c",
   "metadata": {
    "tags": []
   },
   "outputs": [],
   "source": [
    "target = \"LC50 [-LOG(mol/L)]\"\n",
    "syn = \"isSyn\"\n",
    "cols = [x for x in df.columns if x not in [target,syn]]"
   ]
  },
  {
   "cell_type": "code",
   "execution_count": 22,
   "id": "f5ccaab0-e3e5-4a90-b30e-477c46f05608",
   "metadata": {
    "tags": []
   },
   "outputs": [],
   "source": [
    "exporter = {}\n",
    "for col in cols:\n",
    "    if col == \"SM1_Dz(Z)\":\n",
    "        exporter[\"SM1_Dz\"] = { \"min\" : float(df[col].min()),\n",
    "                             \"max\" : float(df[col].max()) }\n",
    "    else:\n",
    "        exporter[col] = { \"min\" : float(df[col].min()),\n",
    "                          \"max\" : float(df[col].max()) }"
   ]
  },
  {
   "cell_type": "code",
   "execution_count": 23,
   "id": "5c3911ae-a833-4c25-a34c-1690291ec61d",
   "metadata": {
    "tags": []
   },
   "outputs": [
    {
     "data": {
      "text/plain": [
       "['../exports/col_meta.z']"
      ]
     },
     "execution_count": 23,
     "metadata": {},
     "output_type": "execute_result"
    }
   ],
   "source": [
    "joblib.dump(exporter,\"../exports/col_meta.z\")"
   ]
  },
  {
   "cell_type": "code",
   "execution_count": null,
   "id": "c4df290c-7f05-4c58-b11f-98a2fdb30221",
   "metadata": {},
   "outputs": [],
   "source": []
  }
 ],
 "metadata": {
  "kernelspec": {
   "display_name": "Python 3 (ipykernel)",
   "language": "python",
   "name": "python3"
  },
  "language_info": {
   "codemirror_mode": {
    "name": "ipython",
    "version": 3
   },
   "file_extension": ".py",
   "mimetype": "text/x-python",
   "name": "python",
   "nbconvert_exporter": "python",
   "pygments_lexer": "ipython3",
   "version": "3.10.6"
  }
 },
 "nbformat": 4,
 "nbformat_minor": 5
}
