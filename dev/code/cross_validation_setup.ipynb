{
 "cells": [
  {
   "cell_type": "code",
   "execution_count": 31,
   "id": "76f7efc2-c82e-4c33-ab56-e96dd4864255",
   "metadata": {
    "tags": []
   },
   "outputs": [],
   "source": [
    "import pandas as pd\n",
    "from sklearn.model_selection import KFold\n",
    "import joblib"
   ]
  },
  {
   "cell_type": "code",
   "execution_count": 32,
   "id": "df8397f8-2d16-4c61-a5bb-099429b806d7",
   "metadata": {
    "tags": []
   },
   "outputs": [],
   "source": [
    "df = pd.read_csv(\"../dataset/std_scaled_df.csv\")"
   ]
  },
  {
   "cell_type": "code",
   "execution_count": 33,
   "id": "dd66354a-37ec-4e3d-be47-be115a2aa0b4",
   "metadata": {
    "tags": []
   },
   "outputs": [],
   "source": [
    "# PARAMS\n",
    "NUM_SPLITS  = 15\n",
    "tar_col = \"LC50 [-LOG(mol/L)]\"\n",
    "X = df.copy()\n",
    "RES = {}"
   ]
  },
  {
   "cell_type": "code",
   "execution_count": 34,
   "id": "3448b775-84e1-44a0-9f1a-207c154d2d11",
   "metadata": {
    "tags": []
   },
   "outputs": [],
   "source": [
    "Skf = KFold(n_splits=NUM_SPLITS,shuffle=True)\n",
    "for i,(train_idx, test_idx) in enumerate(Skf.split(X)):\n",
    "    RES[i] = { \"train\" : train_idx,\n",
    "                    \"test\" : test_idx }"
   ]
  },
  {
   "cell_type": "code",
   "execution_count": 35,
   "id": "db9d77e5-67a1-4612-882e-8cb7cb16c4ca",
   "metadata": {
    "tags": []
   },
   "outputs": [
    {
     "data": {
      "text/plain": [
       "['../exports/StrafitedKFold_splitter.z']"
      ]
     },
     "execution_count": 35,
     "metadata": {},
     "output_type": "execute_result"
    }
   ],
   "source": [
    "joblib.dump(RES,\"../exports/train_test_fold_data.z\")\n",
    "joblib.dump(Skf,\"../exports/StrafitedKFold_splitter.z\")"
   ]
  },
  {
   "cell_type": "code",
   "execution_count": null,
   "id": "a8143b59-c3da-49e0-a883-a3bd82b87255",
   "metadata": {},
   "outputs": [],
   "source": []
  }
 ],
 "metadata": {
  "kernelspec": {
   "display_name": "Python 3 (ipykernel)",
   "language": "python",
   "name": "python3"
  },
  "language_info": {
   "codemirror_mode": {
    "name": "ipython",
    "version": 3
   },
   "file_extension": ".py",
   "mimetype": "text/x-python",
   "name": "python",
   "nbconvert_exporter": "python",
   "pygments_lexer": "ipython3",
   "version": "3.10.6"
  }
 },
 "nbformat": 4,
 "nbformat_minor": 5
}
