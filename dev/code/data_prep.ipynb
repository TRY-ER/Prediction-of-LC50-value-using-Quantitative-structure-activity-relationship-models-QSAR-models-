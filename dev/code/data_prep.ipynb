{
 "cells": [
  {
   "cell_type": "code",
   "execution_count": 30,
   "id": "cca4da22-cbec-4e77-be26-0c0ffbb295ae",
   "metadata": {},
   "outputs": [],
   "source": [
    "import pandas as pd"
   ]
  },
  {
   "cell_type": "code",
   "execution_count": 31,
   "id": "83e19fa6-669b-4ba5-bc6c-8b83b36e7a5f",
   "metadata": {},
   "outputs": [],
   "source": [
    "df = pd.read_csv(\"../dataset/qsar_fish_toxicity.csv\",header=None)"
   ]
  },
  {
   "cell_type": "code",
   "execution_count": 32,
   "id": "8eb2fc05-05d4-434e-b812-b18307da5b0a",
   "metadata": {},
   "outputs": [],
   "source": [
    "res = {\n",
    "    \"CIC0\" : [],\n",
    "    \"SM1_Dz(Z)\" : [],\n",
    "    \"GATS1i\" : [],\n",
    "    \"NdsCH\" : [],\n",
    "    \"NdssC\" : [],\n",
    "    \"MLOGP\" : [],\n",
    "    \"LC50 [-LOG(mol/L)]\" : []\n",
    "}"
   ]
  },
  {
   "cell_type": "code",
   "execution_count": 33,
   "id": "9634322f-deb4-45af-9976-2d648d2ebbd7",
   "metadata": {},
   "outputs": [],
   "source": [
    "for val in df[0].values:\n",
    "    elem = val.split(\";\")\n",
    "    for e,v in zip(elem,res.keys()):\n",
    "        res[v].append(e)"
   ]
  },
  {
   "cell_type": "code",
   "execution_count": 34,
   "id": "600e9cfe-7ed1-4301-9937-198c7ddf1020",
   "metadata": {},
   "outputs": [],
   "source": [
    "res_df = pd.DataFrame(res)"
   ]
  },
  {
   "cell_type": "code",
   "execution_count": 35,
   "id": "c3c21cce-9e7b-467f-9070-01404b715b8c",
   "metadata": {},
   "outputs": [],
   "source": [
    "res_df.to_csv(\"../dataset/formatted.csv\",index=False)"
   ]
  },
  {
   "cell_type": "code",
   "execution_count": null,
   "id": "0f17cf20-4338-4b49-a894-4a0704ed979e",
   "metadata": {},
   "outputs": [],
   "source": []
  }
 ],
 "metadata": {
  "kernelspec": {
   "display_name": "Python 3 (ipykernel)",
   "language": "python",
   "name": "python3"
  },
  "language_info": {
   "codemirror_mode": {
    "name": "ipython",
    "version": 3
   },
   "file_extension": ".py",
   "mimetype": "text/x-python",
   "name": "python",
   "nbconvert_exporter": "python",
   "pygments_lexer": "ipython3",
   "version": "3.7.9"
  }
 },
 "nbformat": 4,
 "nbformat_minor": 5
}
