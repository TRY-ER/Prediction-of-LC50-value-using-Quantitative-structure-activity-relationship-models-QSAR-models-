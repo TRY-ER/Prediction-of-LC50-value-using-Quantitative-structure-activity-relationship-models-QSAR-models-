{
 "cells": [
  {
   "cell_type": "code",
   "execution_count": 1,
   "id": "6d4b6d7a",
   "metadata": {
    "execution": {
     "iopub.execute_input": "2023-05-20T08:17:41.916601Z",
     "iopub.status.busy": "2023-05-20T08:17:41.916233Z",
     "iopub.status.idle": "2023-05-20T08:17:41.930629Z",
     "shell.execute_reply": "2023-05-20T08:17:41.929217Z"
    },
    "papermill": {
     "duration": 0.026281,
     "end_time": "2023-05-20T08:17:41.933894",
     "exception": false,
     "start_time": "2023-05-20T08:17:41.907613",
     "status": "completed"
    },
    "tags": []
   },
   "outputs": [
    {
     "data": {
      "text/plain": [
       "'3.10.10 | packaged by conda-forge | (main, Mar 24 2023, 20:08:06) [GCC 11.3.0]'"
      ]
     },
     "execution_count": 1,
     "metadata": {},
     "output_type": "execute_result"
    }
   ],
   "source": [
    "import sys\n",
    "sys.version"
   ]
  },
  {
   "cell_type": "code",
   "execution_count": 2,
   "id": "ce434baf",
   "metadata": {
    "execution": {
     "iopub.execute_input": "2023-05-20T08:17:41.947629Z",
     "iopub.status.busy": "2023-05-20T08:17:41.947214Z",
     "iopub.status.idle": "2023-05-20T08:17:41.952662Z",
     "shell.execute_reply": "2023-05-20T08:17:41.951444Z"
    },
    "papermill": {
     "duration": 0.01489,
     "end_time": "2023-05-20T08:17:41.954907",
     "exception": false,
     "start_time": "2023-05-20T08:17:41.940017",
     "status": "completed"
    },
    "tags": []
   },
   "outputs": [],
   "source": [
    "# !mamba create -n py311 -y\n",
    "# !source /opt/conda/bin/activate py311 && mamba install python=3.11 jupyter mamba -y\n",
    "\n",
    "# !sudo rm /opt/conda/bin/python3\n",
    "# !sudo ln -sf /opt/conda/envs/py311/bin/python3 /opt/conda/bin/python3\n",
    "# !sudo rm /opt/conda/bin/python3.7\n",
    "# !sudo ln -sf /opt/conda/envs/py311/bin/python3 /opt/conda/bin/python3.7\n",
    "# !sudo rm /opt/conda/bin/python\n",
    "# !sudo ln -sf /opt/conda/envs/py311/bin/python3 /opt/conda/bin/python"
   ]
  },
  {
   "cell_type": "code",
   "execution_count": 3,
   "id": "96faaacc",
   "metadata": {
    "execution": {
     "iopub.execute_input": "2023-05-20T08:17:41.969734Z",
     "iopub.status.busy": "2023-05-20T08:17:41.969271Z",
     "iopub.status.idle": "2023-05-20T08:17:57.760066Z",
     "shell.execute_reply": "2023-05-20T08:17:57.758134Z"
    },
    "papermill": {
     "duration": 15.801477,
     "end_time": "2023-05-20T08:17:57.762775",
     "exception": false,
     "start_time": "2023-05-20T08:17:41.961298",
     "status": "completed"
    },
    "tags": []
   },
   "outputs": [
    {
     "name": "stdout",
     "output_type": "stream",
     "text": [
      "Requirement already satisfied: optuna in /opt/conda/lib/python3.10/site-packages (3.1.1)\r\n",
      "Requirement already satisfied: xgboost in /opt/conda/lib/python3.10/site-packages (1.7.5)\r\n",
      "Requirement already satisfied: torch in /opt/conda/lib/python3.10/site-packages (2.0.0+cpu)\r\n",
      "Requirement already satisfied: tqdm in /opt/conda/lib/python3.10/site-packages (from optuna) (4.64.1)\r\n",
      "Requirement already satisfied: colorlog in /opt/conda/lib/python3.10/site-packages (from optuna) (6.7.0)\r\n",
      "Requirement already satisfied: packaging>=20.0 in /opt/conda/lib/python3.10/site-packages (from optuna) (21.3)\r\n",
      "Requirement already satisfied: sqlalchemy>=1.3.0 in /opt/conda/lib/python3.10/site-packages (from optuna) (2.0.9)\r\n",
      "Requirement already satisfied: PyYAML in /opt/conda/lib/python3.10/site-packages (from optuna) (6.0)\r\n",
      "Requirement already satisfied: cmaes>=0.9.1 in /opt/conda/lib/python3.10/site-packages (from optuna) (0.9.1)\r\n",
      "Requirement already satisfied: numpy in /opt/conda/lib/python3.10/site-packages (from optuna) (1.23.5)\r\n",
      "Requirement already satisfied: alembic>=1.5.0 in /opt/conda/lib/python3.10/site-packages (from optuna) (1.10.3)\r\n",
      "Requirement already satisfied: scipy in /opt/conda/lib/python3.10/site-packages (from xgboost) (1.9.3)\r\n",
      "Requirement already satisfied: typing-extensions in /opt/conda/lib/python3.10/site-packages (from torch) (4.5.0)\r\n",
      "Requirement already satisfied: networkx in /opt/conda/lib/python3.10/site-packages (from torch) (3.1)\r\n",
      "Requirement already satisfied: filelock in /opt/conda/lib/python3.10/site-packages (from torch) (3.11.0)\r\n",
      "Requirement already satisfied: sympy in /opt/conda/lib/python3.10/site-packages (from torch) (1.11.1)\r\n",
      "Requirement already satisfied: jinja2 in /opt/conda/lib/python3.10/site-packages (from torch) (3.1.2)\r\n",
      "Requirement already satisfied: Mako in /opt/conda/lib/python3.10/site-packages (from alembic>=1.5.0->optuna) (1.2.4)\r\n",
      "Requirement already satisfied: pyparsing!=3.0.5,>=2.0.2 in /opt/conda/lib/python3.10/site-packages (from packaging>=20.0->optuna) (3.0.9)\r\n",
      "Requirement already satisfied: greenlet!=0.4.17 in /opt/conda/lib/python3.10/site-packages (from sqlalchemy>=1.3.0->optuna) (2.0.2)\r\n",
      "Requirement already satisfied: MarkupSafe>=2.0 in /opt/conda/lib/python3.10/site-packages (from jinja2->torch) (2.1.2)\r\n",
      "Requirement already satisfied: mpmath>=0.19 in /opt/conda/lib/python3.10/site-packages (from sympy->torch) (1.3.0)\r\n",
      "\u001b[33mWARNING: Running pip as the 'root' user can result in broken permissions and conflicting behaviour with the system package manager. It is recommended to use a virtual environment instead: https://pip.pypa.io/warnings/venv\u001b[0m\u001b[33m\r\n",
      "\u001b[0m"
     ]
    }
   ],
   "source": [
    "!pip install optuna xgboost torch"
   ]
  },
  {
   "cell_type": "code",
   "execution_count": 4,
   "id": "b9819800",
   "metadata": {
    "execution": {
     "iopub.execute_input": "2023-05-20T08:17:57.779107Z",
     "iopub.status.busy": "2023-05-20T08:17:57.778604Z",
     "iopub.status.idle": "2023-05-20T08:17:59.999467Z",
     "shell.execute_reply": "2023-05-20T08:17:59.998128Z"
    },
    "papermill": {
     "duration": 2.233369,
     "end_time": "2023-05-20T08:18:00.002750",
     "exception": false,
     "start_time": "2023-05-20T08:17:57.769381",
     "status": "completed"
    },
    "tags": []
   },
   "outputs": [
    {
     "name": "stderr",
     "output_type": "stream",
     "text": [
      "/opt/conda/lib/python3.10/site-packages/scipy/__init__.py:146: UserWarning: A NumPy version >=1.16.5 and <1.23.0 is required for this version of SciPy (detected version 1.23.5\n",
      "  warnings.warn(f\"A NumPy version >={np_minversion} and <{np_maxversion}\"\n"
     ]
    }
   ],
   "source": [
    "# Utils imports\n",
    "import pandas as pd\n",
    "import numpy as np\n",
    "import os\n",
    "import joblib\n",
    "import random\n",
    "\n",
    "#Optimization imports\n",
    "import optuna as opt\n",
    "\n",
    "#Evaluation imports\n",
    "from sklearn.metrics import accuracy_score, mean_absolute_error, mean_squared_error, r2_score"
   ]
  },
  {
   "cell_type": "code",
   "execution_count": null,
   "id": "29d3ba3d",
   "metadata": {
    "papermill": {
     "duration": 0.006463,
     "end_time": "2023-05-20T08:18:00.016036",
     "exception": false,
     "start_time": "2023-05-20T08:18:00.009573",
     "status": "completed"
    },
    "tags": []
   },
   "outputs": [],
   "source": []
  },
  {
   "cell_type": "code",
   "execution_count": 5,
   "id": "ac64cbb0",
   "metadata": {
    "execution": {
     "iopub.execute_input": "2023-05-20T08:18:00.031771Z",
     "iopub.status.busy": "2023-05-20T08:18:00.030655Z",
     "iopub.status.idle": "2023-05-20T08:18:00.036822Z",
     "shell.execute_reply": "2023-05-20T08:18:00.035933Z"
    },
    "jupyter": {
     "source_hidden": true
    },
    "papermill": {
     "duration": 0.017587,
     "end_time": "2023-05-20T08:18:00.040187",
     "exception": false,
     "start_time": "2023-05-20T08:18:00.022600",
     "status": "completed"
    },
    "tags": []
   },
   "outputs": [],
   "source": [
    "# Utils imports\n",
    "import pandas as pd\n",
    "import numpy as np\n",
    "import os\n",
    "import joblib\n",
    "import random\n",
    "import logging\n",
    "\n",
    "#Optimization imports\n",
    "import optuna as opt\n",
    "\n",
    "#Evaluation imports\n",
    "from sklearn.metrics import accuracy_score, mean_absolute_error, mean_squared_error, r2_score"
   ]
  },
  {
   "cell_type": "code",
   "execution_count": 6,
   "id": "5217a7d6",
   "metadata": {
    "execution": {
     "iopub.execute_input": "2023-05-20T08:18:00.056872Z",
     "iopub.status.busy": "2023-05-20T08:18:00.056466Z",
     "iopub.status.idle": "2023-05-20T08:18:00.065154Z",
     "shell.execute_reply": "2023-05-20T08:18:00.064161Z"
    },
    "papermill": {
     "duration": 0.019833,
     "end_time": "2023-05-20T08:18:00.067689",
     "exception": false,
     "start_time": "2023-05-20T08:18:00.047856",
     "status": "completed"
    },
    "tags": []
   },
   "outputs": [],
   "source": [
    "import logging\n",
    "#logging setup\n",
    "from datetime import date\n",
    "\n",
    "\n",
    "# Configure the logger\n",
    "logger = logging.getLogger('Model Logger')\n",
    "logger.setLevel(logging.DEBUG)\n",
    "\n",
    "# Add a file handler to save log records to a file\n",
    "log_file = f'{date.today().strftime(\"%Y_%m>%d\")}.log'\n",
    "file_handler = logging.FileHandler(log_file)\n",
    "file_handler.setLevel(logging.DEBUG)\n",
    "\n",
    "# Create a formatter to specify the format of the log records\n",
    "formatter = logging.Formatter('%(asctime)s - %(name)s - %(levelname)s - %(message)s')\n",
    "file_handler.setFormatter(formatter)\n",
    "\n",
    "# Add the file handler to the logger\n",
    "logger.addHandler(file_handler)\n",
    "\n",
    "# Log a message\n",
    "logger.info('Logging Started')"
   ]
  },
  {
   "cell_type": "code",
   "execution_count": 7,
   "id": "77017382",
   "metadata": {
    "execution": {
     "iopub.execute_input": "2023-05-20T08:18:00.085236Z",
     "iopub.status.busy": "2023-05-20T08:18:00.084449Z",
     "iopub.status.idle": "2023-05-20T08:18:00.847380Z",
     "shell.execute_reply": "2023-05-20T08:18:00.846117Z"
    },
    "papermill": {
     "duration": 0.775215,
     "end_time": "2023-05-20T08:18:00.850135",
     "exception": false,
     "start_time": "2023-05-20T08:18:00.074920",
     "status": "completed"
    },
    "tags": []
   },
   "outputs": [],
   "source": [
    "#Model imports\n",
    "from xgboost import XGBRegressor\n",
    "import xgboost as xgb\n",
    "# from pytorch_tabnet.tab_model import TabNetRegressor\n",
    "from sklearn.linear_model import LinearRegression, Ridge, Lasso\n",
    "from sklearn.tree import DecisionTreeRegressor\n",
    "from sklearn.ensemble import RandomForestRegressor\n",
    "from sklearn.neighbors import KNeighborsRegressor\n",
    "from sklearn.svm import SVR"
   ]
  },
  {
   "cell_type": "code",
   "execution_count": 8,
   "id": "3398e0c1",
   "metadata": {
    "execution": {
     "iopub.execute_input": "2023-05-20T08:18:00.867806Z",
     "iopub.status.busy": "2023-05-20T08:18:00.866778Z",
     "iopub.status.idle": "2023-05-20T08:18:00.874255Z",
     "shell.execute_reply": "2023-05-20T08:18:00.873241Z"
    },
    "papermill": {
     "duration": 0.019817,
     "end_time": "2023-05-20T08:18:00.877215",
     "exception": false,
     "start_time": "2023-05-20T08:18:00.857398",
     "status": "completed"
    },
    "tags": []
   },
   "outputs": [],
   "source": []
  },
  {
   "cell_type": "code",
   "execution_count": 9,
   "id": "811c624d",
   "metadata": {
    "execution": {
     "iopub.execute_input": "2023-05-20T08:18:00.896723Z",
     "iopub.status.busy": "2023-05-20T08:18:00.894819Z",
     "iopub.status.idle": "2023-05-20T08:18:00.968253Z",
     "shell.execute_reply": "2023-05-20T08:18:00.966685Z"
    },
    "papermill": {
     "duration": 0.086412,
     "end_time": "2023-05-20T08:18:00.971743",
     "exception": false,
     "start_time": "2023-05-20T08:18:00.885331",
     "status": "completed"
    },
    "tags": []
   },
   "outputs": [],
   "source": [
    "# Preparing data\n",
    "\n",
    "df = pd.read_csv(\"/kaggle/input/fish-pred-data/smogn_syn_data.csv\")\n",
    "tar_col = \"LC50 [-LOG(mol/L)]\"\n",
    "Syn = \"isSyn\"\n",
    "isSyn = df[Syn]\n",
    "X = df.drop([tar_col,Syn], axis=1)\n",
    "Y = df[tar_col]\n",
    "\n",
    "\n",
    "# PARAMS \n",
    "NUM_FOLDS = 15\n",
    "NUM_TRIALS = 20\n",
    "FOLD_DICT = joblib.load(\"/kaggle/input/fish-pred-data/train_test_fold_data.z\")"
   ]
  },
  {
   "cell_type": "code",
   "execution_count": 10,
   "id": "b6030c9d",
   "metadata": {
    "execution": {
     "iopub.execute_input": "2023-05-20T08:18:00.988819Z",
     "iopub.status.busy": "2023-05-20T08:18:00.988368Z",
     "iopub.status.idle": "2023-05-20T08:18:01.143648Z",
     "shell.execute_reply": "2023-05-20T08:18:01.142221Z"
    },
    "papermill": {
     "duration": 0.167474,
     "end_time": "2023-05-20T08:18:01.146507",
     "exception": false,
     "start_time": "2023-05-20T08:18:00.979033",
     "status": "completed"
    },
    "tags": []
   },
   "outputs": [],
   "source": [
    "# def train_main(X,Y,FOLD_DICT,model_name):\n",
    "#     fold_data = {}\n",
    "#     trial_fold = random.choice(range(NUM_FOLDS))\n",
    "#     trial_train_index = FOLD_DICT[trial_fold][\"train\"]\n",
    "#     trial_test_index = FOLD_DICT[trial_fold][\"test\"]\n",
    "#     trial_X_main = X.iloc[trial_train_index, :].to_numpy(dtype=np.float64)\n",
    "#     trial_Y_main = Y[trial_train_index].to_numpy(dtype=np.float64)\n",
    "#     trial_X_test = X.iloc[trial_test_index, :].to_numpy(dtype=np.float64)\n",
    "#     trial_Y_test = Y[trial_test_index].to_numpy(dtype=np.float64)\n",
    "#     logger.info(f\"[{model_name}] Hyper-Optim Started on fold {trial_fold}\")\n",
    "#     def objective(trial):\n",
    "#         reg = XGBRegressor(\n",
    "#                     n_estimators = trial.suggest_categorical(\"xgb_est\",[4500,5000]),\n",
    "#                     learning_rate = trial.suggest_categorical(\"xgb_lr\",[0.01,3e-4,0.1]),\n",
    "#                     booster = \"dart\",\n",
    "#                     tree_method =  \"gpu_hist\",\n",
    "#                     predictor = \"gpu_predictor\")\n",
    "#         reg.fit(trial_X_main, trial_Y_main,\n",
    "#                     eval_set = [(trial_X_test,trial_Y_test)],\n",
    "#                     eval_metric = [\"rmse\"])\n",
    "#         trial_Y_pred = reg.predict(trial_X_test)\n",
    "#         error = mean_squared_error(trial_Y_pred, trial_Y_test, squared=False)\n",
    "#         return error\n",
    "#     study = opt.create_study(direction='minimize')\n",
    "#     study.optimize(objective, n_trials = NUM_TRIALS)\n",
    "#     logger.info(f\"[{model_name}] Hyper-Optim Ended on fold {trial_fold}\")\n",
    "#     best_params = study.best_params\n",
    "#     trial_data = study.get_trials()\n",
    "#     logger.info(f\"[{model_name}] Cross Validation loop started\")\n",
    "#     for fold in range(NUM_FOLDS):\n",
    "#         logger.info(f\"[{model_name}] Cross Validation loop started for fold {fold}\")\n",
    "#         out_data = {}\n",
    "#         train_index = FOLD_DICT[fold][\"train\"]\n",
    "#         test_index = FOLD_DICT[fold][\"test\"]\n",
    "#         X_main = X.iloc[train_index, :].to_numpy(dtype=np.float64)\n",
    "#         Y_main = Y[train_index].to_numpy(dtype=np.float64)\n",
    "#         X_test = X.iloc[test_index, :].to_numpy(dtype=np.float64)\n",
    "#         Y_test = Y[test_index].to_numpy(dtype=np.float64)\n",
    "#         reg_main= XGBRegressor(**best_params)\n",
    "#         booster = reg_main.get_booster()\n",
    "#         reg_main.fit(X_main, Y_main,eval_set = [(X_test, Y_test)],eval_metric = [\"rmse\"])\n",
    "#         Y_pred_main = reg_main.predict(X_test)\n",
    "#         booster.save_model(f\"model_{fold}.bin\")\n",
    "#         error_metrics_all = {\n",
    "#             \"mse_error\" : mean_squared_error(Y_pred_main,Y_test),\n",
    "#             \"mae_error\" : mean_absolute_error(Y_pred_main,Y_test),\n",
    "#             \"rmse_error\" : mean_squared_error(Y_pred_main,Y_test, squared=False),\n",
    "#             \"r2_score\" : r2_score(Y_pred_main,Y_test)}\n",
    "\n",
    "#         out_data[model_name] = { \"best_params\"  : best_params,\n",
    "#                                     \"trial_data\" : trial_data,\n",
    "#                                 \"error_metric_all\": error_metrics_all,\n",
    "#                                 \"model_bin\" : booster }\n",
    "#         logger.info(f\"[{model_name}] Cross Validation loop ended for fold {fold}\")\n",
    "#         fold_data[fold] = out_data\n",
    "#     logger.info(f\"[{model_name}] Main Training Loop Ended\")\n",
    "#     return fold_data\n",
    "# model_data = train_main(X,Y,FOLD_DICT,model_name=\"knReg\")\n",
    "\n",
    "# other model sample codes\n",
    "\n",
    "# def train_main(X,Y,FOLD_DICT,model_name):\n",
    "#     fold_data = {}\n",
    "#     trial_fold = random.choice(range(NUM_FOLDS))\n",
    "#     trial_train_index = FOLD_DICT[trial_fold][\"train\"]\n",
    "#     trial_test_index = FOLD_DICT[trial_fold][\"test\"]\n",
    "#     trial_X_main = X.iloc[trial_train_index, :].to_numpy(dtype=np.float64)\n",
    "#     trial_Y_main = Y[trial_train_index].to_numpy(dtype=np.float64)\n",
    "#     trial_X_test = X.iloc[trial_test_index, :].to_numpy(dtype=np.float64)\n",
    "#     trial_Y_test = Y[trial_test_index].to_numpy(dtype=np.float64)\n",
    "#     logger.info(f\"[{model_name}] Hyper-Optim Started on fold {trial_fold}\")\n",
    "#     def objective(trial):\n",
    "#         reg = LogisticRegression(\n",
    "#                     penalty = \"l2\")\n",
    "#         reg.fit(trial_X_main, trial_Y_main)\n",
    "#         trial_Y_pred = reg.predict(trial_X_test)\n",
    "#         error = mean_squared_error(trial_Y_pred, trial_Y_test, squared=False)\n",
    "#         return error\n",
    "#     study = opt.create_study(direction='minimize')\n",
    "#     study.optimize(objective, n_trials = NUM_TRIALS)\n",
    "#     logger.info(f\"[{model_name}] Hyper-Optim Ended on fold {trial_fold}\")\n",
    "#     best_params = study.best_params\n",
    "#     trial_data = study.get_trials()\n",
    "#     logger.info(f\"[{model_name}] Cross Validation loop started\")\n",
    "#     for fold in range(NUM_FOLDS):\n",
    "#         logger.info(f\"[{model_name}] Cross Validation loop started for fold {fold}\")\n",
    "#         out_data = {}\n",
    "#         train_index = FOLD_DICT[fold][\"train\"]\n",
    "#         test_index = FOLD_DICT[fold][\"test\"]\n",
    "#         X_main = X.iloc[train_index, :].to_numpy(dtype=np.float64)\n",
    "#         Y_main = Y[train_index].to_numpy(dtype=np.float64)\n",
    "#         X_test = X.iloc[test_index, :].to_numpy(dtype=np.float64)\n",
    "#         Y_test = Y[test_index].to_numpy(dtype=np.float64)\n",
    "#         reg_main= LogisticRegression(**best_params)\n",
    "#         reg_main.fit(X_main, Y_main)\n",
    "#         Y_pred_main = reg_main.predict(X_test)\n",
    "#         joblib.dump(reg_main, f\"{fold}_model.z\")\n",
    "#         error_metrics_all = {\n",
    "#             \"mse_error\" : mean_squared_error(Y_pred_main,Y_test),\n",
    "#             \"mae_error\" : mean_absolute_error(Y_pred_main,Y_test),\n",
    "#             \"rmse_error\" : mean_squared_error(Y_pred_main,Y_test, squared=False),\n",
    "#             \"r2_score\" : r2_score(Y_pred_main,Y_test)}\n",
    "\n",
    "#         out_data[model_name] = { \"best_params\"  : best_params,\n",
    "#                                     \"trial_data\" : trial_data,\n",
    "#                                 \"error_metric_all\": error_metrics_all,\n",
    "#                                 \"model_bin\" : reg_main }\n",
    "#         logger.info(f\"[{model_name}] Cross Validation loop ended for fold {fold}\")\n",
    "#         fold_data[fold] = out_data\n",
    "#     logger.info(f\"[{model_name}] Main Training Loop Ended\")\n",
    "#     return fold_data\n",
    "# model_data = train_main(X,Y,FOLD_DICT,model_name=\"LogisticRegression\")\n",
    "\n",
    "\n",
    "# linear regression setup\n",
    "\n",
    "def train_main(X,Y,FOLD_DICT,model_name):\n",
    "    fold_data = {}\n",
    "#     trial_fold = random.choice(range(NUM_FOLDS))\n",
    "#     trial_train_index = FOLD_DICT[trial_fold][\"train\"]\n",
    "#     trial_test_index = FOLD_DICT[trial_fold][\"test\"]\n",
    "#     trial_X_main = X.iloc[trial_train_index, :].to_numpy(dtype=np.float64)\n",
    "#     trial_Y_main = Y[trial_train_index].to_numpy(dtype=np.float64)\n",
    "#     trial_X_test = X.iloc[trial_test_index, :].to_numpy(dtype=np.float64)\n",
    "#     trial_Y_test = Y[trial_test_index].to_numpy(dtype=np.float64)\n",
    "#     logger.info(f\"[{model_name}] Hyper-Optim Started on fold {trial_fold}\")\n",
    "#     def objective(trial):\n",
    "#         reg = LogisticRegression(\n",
    "#                     penalty = \"l2\")\n",
    "#         reg.fit(trial_X_main, trial_Y_main)\n",
    "#         trial_Y_pred = reg.predict(trial_X_test)\n",
    "#         error = mean_squared_error(trial_Y_pred, trial_Y_test, squared=False)\n",
    "#         return error\n",
    "#     study = opt.create_study(direction='minimize')\n",
    "#     study.optimize(objective, n_trials = NUM_TRIALS)\n",
    "#     logger.info(f\"[{model_name}] Hyper-Optim Ended on fold {trial_fold}\")\n",
    "#     best_params = study.best_params\n",
    "#     trial_data = study.get_trials()\n",
    "#     logger.info(f\"[{model_name}] Cross Validation loop started\")\n",
    "    for fold in range(NUM_FOLDS):\n",
    "        logger.info(f\"[{model_name}] Cross Validation loop started for fold {fold}\")\n",
    "        out_data = {}\n",
    "        train_index = FOLD_DICT[fold][\"train\"]\n",
    "        test_index = FOLD_DICT[fold][\"test\"]\n",
    "        X_main = X.iloc[train_index, :].to_numpy(dtype=np.float64)\n",
    "        Y_main = Y[train_index].to_numpy(dtype=np.float64)\n",
    "        X_test = X.iloc[test_index, :].to_numpy(dtype=np.float64)\n",
    "        Y_test = Y[test_index].to_numpy(dtype=np.float64)\n",
    "        reg_main= LinearRegression()\n",
    "        reg_main.fit(X_main, Y_main)\n",
    "        Y_pred_main = reg_main.predict(X_test)\n",
    "        joblib.dump(reg_main, f\"{fold}_model.z\")\n",
    "        error_metrics_all = {\n",
    "            \"mse_error\" : mean_squared_error(Y_pred_main,Y_test),\n",
    "            \"mae_error\" : mean_absolute_error(Y_pred_main,Y_test),\n",
    "            \"rmse_error\" : mean_squared_error(Y_pred_main,Y_test, squared=False),\n",
    "            \"r2_score\" : r2_score(Y_pred_main,Y_test)}\n",
    "\n",
    "        out_data[model_name] = {\n",
    "                                \"error_metric_all\": error_metrics_all,\n",
    "                                \"model_bin\" : reg_main }\n",
    "        logger.info(f\"[{model_name}] Cross Validation loop ended for fold {fold}\")\n",
    "        fold_data[fold] = out_data\n",
    "    logger.info(f\"[{model_name}] Main Training Loop Ended\")\n",
    "    return fold_data\n",
    "model_data = train_main(X,Y,FOLD_DICT,model_name=\"LinearRegression\")"
   ]
  },
  {
   "cell_type": "code",
   "execution_count": null,
   "id": "a8eb8215",
   "metadata": {
    "papermill": {
     "duration": 0.006824,
     "end_time": "2023-05-20T08:18:01.160076",
     "exception": false,
     "start_time": "2023-05-20T08:18:01.153252",
     "status": "completed"
    },
    "tags": []
   },
   "outputs": [],
   "source": []
  },
  {
   "cell_type": "code",
   "execution_count": 11,
   "id": "f91ca923",
   "metadata": {
    "execution": {
     "iopub.execute_input": "2023-05-20T08:18:01.176467Z",
     "iopub.status.busy": "2023-05-20T08:18:01.175874Z",
     "iopub.status.idle": "2023-05-20T08:18:01.193097Z",
     "shell.execute_reply": "2023-05-20T08:18:01.192138Z"
    },
    "papermill": {
     "duration": 0.028857,
     "end_time": "2023-05-20T08:18:01.195649",
     "exception": false,
     "start_time": "2023-05-20T08:18:01.166792",
     "status": "completed"
    },
    "tags": []
   },
   "outputs": [],
   "source": [
    "joblib.dump(model_data,\"model_data.z\")\n",
    "# Close the file handler\n",
    "file_handler.close()"
   ]
  },
  {
   "cell_type": "code",
   "execution_count": null,
   "id": "efb70bf5",
   "metadata": {
    "papermill": {
     "duration": 0.007398,
     "end_time": "2023-05-20T08:18:01.210681",
     "exception": false,
     "start_time": "2023-05-20T08:18:01.203283",
     "status": "completed"
    },
    "tags": []
   },
   "outputs": [],
   "source": []
  },
  {
   "cell_type": "code",
   "execution_count": null,
   "id": "0fb86c9c",
   "metadata": {
    "papermill": {
     "duration": 0.007179,
     "end_time": "2023-05-20T08:18:01.225779",
     "exception": false,
     "start_time": "2023-05-20T08:18:01.218600",
     "status": "completed"
    },
    "tags": []
   },
   "outputs": [],
   "source": []
  }
 ],
 "metadata": {
  "kernelspec": {
   "display_name": "Python 3 (ipykernel)",
   "language": "python",
   "name": "python3"
  },
  "language_info": {
   "codemirror_mode": {
    "name": "ipython",
    "version": 3
   },
   "file_extension": ".py",
   "mimetype": "text/x-python",
   "name": "python",
   "nbconvert_exporter": "python",
   "pygments_lexer": "ipython3",
   "version": "3.10.11"
  },
  "papermill": {
   "default_parameters": {},
   "duration": 34.553805,
   "end_time": "2023-05-20T08:18:02.457962",
   "environment_variables": {},
   "exception": null,
   "input_path": "__notebook__.ipynb",
   "output_path": "__notebook__.ipynb",
   "parameters": {},
   "start_time": "2023-05-20T08:17:27.904157",
   "version": "2.4.0"
  }
 },
 "nbformat": 4,
 "nbformat_minor": 5
}
