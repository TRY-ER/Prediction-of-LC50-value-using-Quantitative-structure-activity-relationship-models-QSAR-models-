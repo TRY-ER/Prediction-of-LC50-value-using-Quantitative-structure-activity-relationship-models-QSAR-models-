{
 "cells": [
  {
   "cell_type": "code",
   "execution_count": 1,
   "id": "0cbb0a68-2140-4cb1-a197-21b3ab549a6d",
   "metadata": {
    "tags": []
   },
   "outputs": [
    {
     "name": "stderr",
     "output_type": "stream",
     "text": [
      "C:\\Users\\avyar\\AppData\\Local\\Programs\\Python\\Python310\\lib\\site-packages\\tqdm\\auto.py:22: TqdmWarning: IProgress not found. Please update jupyter and ipywidgets. See https://ipywidgets.readthedocs.io/en/stable/user_install.html\n",
      "  from .autonotebook import tqdm as notebook_tqdm\n"
     ]
    }
   ],
   "source": [
    "# Utils imports\n",
    "import pandas as pd\n",
    "import numpy as np\n",
    "import os\n",
    "import joblib\n",
    "import random\n",
    "\n",
    "#Optimization imports\n",
    "import optuna as opt\n",
    "\n",
    "#Evaluation imports\n",
    "from sklearn.metrics import accuracy_score, mean_absolute_error, mean_squared_error, r2_score\n"
   ]
  },
  {
   "cell_type": "code",
   "execution_count": 4,
   "id": "b042a51c-3971-4244-8d3d-663275d8914c",
   "metadata": {
    "tags": []
   },
   "outputs": [],
   "source": [
    "#Model imports\n",
    "from xgboost import XGBRegressor\n",
    "from pytorch_tabnet.tab_model import TabNetRegressor\n",
    "from sklearn.linear_model import LinearRegression, Ridge, Lasso, LogisticRegression\n",
    "from sklearn.tree import DecisionTreeRegressor\n",
    "from sklearn.ensemble import RandomForestRegressor\n",
    "from sklearn.neighbors import KNeighborsRegressor\n",
    "from sklearn.svm import SVR\n",
    "from sklearn.gaussian_process import GaussianProcessRegressor"
   ]
  },
  {
   "cell_type": "code",
   "execution_count": 9,
   "id": "4e5892f5-1dda-4ff4-9138-b3709504d253",
   "metadata": {
    "tags": []
   },
   "outputs": [
    {
     "data": {
      "text/plain": [
       "0       0\n",
       "1       0\n",
       "2       0\n",
       "3       0\n",
       "4       0\n",
       "       ..\n",
       "1069    1\n",
       "1070    1\n",
       "1071    1\n",
       "1072    1\n",
       "1073    1\n",
       "Name: isSyn, Length: 1074, dtype: int64"
      ]
     },
     "execution_count": 9,
     "metadata": {},
     "output_type": "execute_result"
    }
   ],
   "source": [
    "# Preparing data\n",
    "\n",
    "df = pd.read_csv(\"../dataset/smogn_syn_data.csv\")\n",
    "tar_col = \"LC50 [-LOG(mol/L)]\"\n",
    "Syn = \"isSyn\"\n",
    "isSyn = df[Syn]\n",
    "X = df.drop([tar_col,Syn], axis=1)\n",
    "Y = df[tar_col]\n",
    "isSyn\n",
    "\n",
    "\n",
    "# PARAMS \n",
    "NUM_TRIALS = 15"
   ]
  },
  {
   "cell_type": "code",
   "execution_count": 15,
   "id": "a36abbc9-d2e6-4f82-af01-47fdd899b475",
   "metadata": {
    "tags": []
   },
   "outputs": [],
   "source": [
    "# Creating the dict for model and trial values\n",
    "models = {\n",
    "    \"XGBRegressor\" : {\n",
    "        \"model\" : XGBRegressor,\n",
    "        \"param\" : {\n",
    "                \"n_estimators\":  'trial.suggest_categorical(\"xgb_est\",[4500,5000])',\n",
    "                \"learning_rate\": 'trial.suggest_categorical(\"xgb_lr\",[0.01,3e-4,0.1])',\n",
    "                \"booster\" : 'trial.suggest_categorical(\"xgb_booster\",[\"gbtree\",\"gblinear\",\"dart\"])',\n",
    "                \"tree_method\" : 'trial.suggest_categorical(\"xgb_treemethod\",[\"gpu_hist\"])',\n",
    "                \"predictor\" : 'trial.suggest_categorical(\"xgp_predictor\",[\"gpu_predictor\"])'\n",
    "        }\n",
    "    }\n",
    "}   "
   ]
  },
  {
   "cell_type": "code",
   "execution_count": 36,
   "id": "3934bb95-258f-4d45-9a81-9db674bc11ce",
   "metadata": {
    "tags": []
   },
   "outputs": [
    {
     "name": "stdout",
     "output_type": "stream",
     "text": [
      "(1002, 6) (72, 6) (1002,) (72,)\n"
     ]
    }
   ],
   "source": [
    "# main objective function for optuna \n",
    "def train_main(X,Y,isSyn,train_fold,models):\n",
    "    train_fold = joblib.load(\"../exports/train_test_fold_data.z\")\n",
    "    fold=0\n",
    "    train_index = train_fold[fold][\"train\"]\n",
    "    test_index = train_fold[fold][\"test\"]\n",
    "    X_main = X.iloc[train_index, :].to_numpy(dtype=np.float64)\n",
    "    Y_main = Y[train_index].to_numpy(dtype=np.float64)\n",
    "    X_test = X.iloc[test_index, :].to_numpy(dtype=np.float64)\n",
    "    Y_test = Y[test_index].to_numpy(dtype=np.float64)\n",
    "    out_data = {}\n",
    "    for model_name,model_item in models.items():\n",
    "        def objective(trial):\n",
    "            clf = model_item[\"model\"](model_item[\"param\"])\n",
    "            clf.fit(X_main, Y_main,\n",
    "                    eval_set = [(X_test, Y_test)]\n",
    "                    eval_metric = [\"rmse\"])\n",
    "            Y_pred = clf.predict(X_test)\n",
    "            error = mean_squared_error(Y_pred, Y_test, squared=False)\n",
    "            return error\n",
    "        study = opt.create_study(direction='minimize')\n",
    "        study.optimize(objective, n_trials = NUM_TRIALS)\n",
    "        best_params = study.best_params\n",
    "        trial_data = trial.get_trials()\n",
    "        clf_main= model_item[\"model\"](**best_params)\n",
    "        clf.fit(X_main, Y_main,\n",
    "                eval_set = [(X_test, Y_test)]\n",
    "                eval_metric = [\"rmse\"])\n",
    "        Y_pred_main = clf.predict(X_test)\n",
    "        error_metrics_all = {\n",
    "            \"mse_error\" : mean_squared_error(Y_pred_main,Y_test),\n",
    "            \"mae_error\" : mean_absolute_error(Y_pred_main,Y_test),\n",
    "            \"rmse_error\" : mean_squared_error(Y_pred_main,Y_test, squared=False),\n",
    "            \"r2_score\" : r2_score(Y_pred_main,Y_test)}\n",
    "        \n",
    "        out_data[model_name] = { \"best_params\"  : best_params,\n",
    "                                 \"trial_data\" : trial_data,\n",
    "                                \"error_metric_all\": error_metrics_all,\n",
    "                                \n",
    "                                 \n",
    "        \n",
    "        "
   ]
  },
  {
   "cell_type": "code",
   "execution_count": null,
   "id": "a093c502-c4f8-4125-991d-d215c0fa81f3",
   "metadata": {},
   "outputs": [],
   "source": []
  }
 ],
 "metadata": {
  "kernelspec": {
   "display_name": "Python 3 (ipykernel)",
   "language": "python",
   "name": "python3"
  },
  "language_info": {
   "codemirror_mode": {
    "name": "ipython",
    "version": 3
   },
   "file_extension": ".py",
   "mimetype": "text/x-python",
   "name": "python",
   "nbconvert_exporter": "python",
   "pygments_lexer": "ipython3",
   "version": "3.10.6"
  }
 },
 "nbformat": 4,
 "nbformat_minor": 5
}
